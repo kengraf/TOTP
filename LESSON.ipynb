{
 "cells": [
  {
   "cell_type": "markdown",
   "id": "racial-disability",
   "metadata": {},
   "source": [
    "# Demonstration of Open Authentication (OATH)\n",
    "\n",
    "OATH tokens have two implementations: Time based [TOTP](https://en.wikipedia.org/wiki/Time-based_One-Time_Password) and HMAC based [HOTP](https://en.wikipedia.org/wiki/HMAC-based_One-Time_Password)\n",
    "\n",
    "Google Authenticator is a popular example of web sites using OATH as an alternative to passwords.  \n"
   ]
  },
  {
   "cell_type": "markdown",
   "id": "experienced-topic",
   "metadata": {},
   "source": [
    "## Lesson #1 Registration of a user's secret"
   ]
  },
  {
   "cell_type": "code",
   "execution_count": null,
   "id": "divine-panama",
   "metadata": {},
   "outputs": [],
   "source": [
    "# The secret has a special format of 16 [base32](https://en.wikipedia.org/wiki/Base32) 'digits'\n",
    "# generateSecret will create a properly formatted random secret\n",
    "\n",
    "import google_authenticator as ga\n",
    "\n",
    "print( \"Secret1= %s\" % ga.generateSecret())\n",
    "print( \"Secret2= %s\" % ga.generateSecret())\n",
    "print( \"Secret3= %s\" % ga.generateSecret())\n"
   ]
  },
  {
   "cell_type": "code",
   "execution_count": null,
   "id": "frequent-findings",
   "metadata": {},
   "outputs": [],
   "source": [
    "import google_authenticator as ga\n",
    "from IPython.display import display, HTML\n",
    "\n",
    "secret = ga.generateSecret()\n",
    "name = 'yourname'\n",
    "ga.registerUser({'name':name,'secret':secret})\n",
    "print(\"Registered %s, secret= %s\" % (name, secret))\n",
    "\n",
    "totp = ga.currentTOTP(name)\n",
    "display(HTML(ga.validateTOTP({'name':name,'code':totp})))\n",
    "   \n",
    "   \n"
   ]
  },
  {
   "cell_type": "markdown",
   "id": "injured-morris",
   "metadata": {},
   "source": [
    "## Lesson #2 TOTP codes expire after 30 seconds"
   ]
  },
  {
   "cell_type": "code",
   "execution_count": null,
   "id": "pleased-summer",
   "metadata": {},
   "outputs": [],
   "source": [
    "# This code snipet shows how token code rollover every 30 seconds\n",
    "# Old codes will not validate, this reduces the concern about them being stolen\n",
    "\n",
    "import google_authenticator as ga\n",
    "\n",
    "totp = ga.currentTOTP(name)\n",
    "print(\"Current code= %s\" % totp)\n",
    "display(HTML(ga.validateTOTP({'name':name,'code':totp})))\n",
    "\n",
    "# This will show the current code, then wait for the next time interval\n",
    "ga.rolloverTOTP(name)\n",
    "   \n",
    "\n",
    "# The first code is now invalid\n",
    "display(HTML(ga.validateTOTP({'name':name,'code':totp})))\n"
   ]
  },
  {
   "cell_type": "markdown",
   "id": "protective-diameter",
   "metadata": {},
   "source": [
    " ## Lesson #3 HOTP codes are only valid once"
   ]
  },
  {
   "cell_type": "code",
   "execution_count": null,
   "id": "egyptian-strand",
   "metadata": {},
   "outputs": [],
   "source": [
    "# This code snipet shows how HOTP code becomes invalid after one use\n",
    "# Unlike TOTP codes that are based on a secret and the time\n",
    "# HOTP codes are based on a secret and a counter.\n",
    "# Everytime a code is validated the counter is incremented, thus invalidating \n",
    "# previous codes.  The TOTP method generally preferred because it avoids\n",
    "# issues caused by the client and server counters getting out of sync.\n",
    "\n",
    "import google_authenticator as ga\n",
    "\n",
    "# google_authenitcator module maintains the counter as a variable\n",
    "print('HOTP counter= %d' % ga.HOTP_COUNTER)\n",
    "\n",
    "hotp = ga.currentHOTP(name)\n",
    "print(\"Current code= %s\" % hotp)\n",
    "display(HTML(ga.validateHOTP({'name':name,'code':hotp})))\n",
    "\n",
    "# The first code is now invalid\n",
    "print('HOTP counter= %d' % ga.HOTP_COUNTER)\n",
    "display(HTML(ga.validateHOTP({'name':name,'code':hotp})))\n"
   ]
  },
  {
   "cell_type": "code",
   "execution_count": null,
   "id": "graphic-damage",
   "metadata": {},
   "outputs": [],
   "source": [
    "# Most HOTP implementations allow for a small of counters to be valid\n",
    "# because the client increments when it generates a code\n",
    "# and the server increments when it recieves.  Unsend codes and \n",
    "# communication failures will unsync the clinet/server counters\n",
    "# This module uses a sync range of 10\n",
    "\n",
    "import google_authenticator as ga\n",
    "\n",
    "# Current counter and code\n",
    "print('HOTP counter= %d' % ga.HOTP_COUNTER)\n",
    "hotp = ga.currentHOTP(name)\n",
    "print(\"Current code= %s\" % hotp)\n",
    "display(HTML(ga.validateHOTP({'name':name,'code':hotp})))\n",
    "\n",
    "# Set the server counter back 5, this will still validate\n",
    "ga.HOTP_COUNTER -= 5\n",
    "print('HOTP counter= %d' % ga.HOTP_COUNTER)\n",
    "hotp = ga.currentHOTP(name)\n",
    "print(\"Current code= %s\" % hotp)\n",
    "display(HTML(ga.validateHOTP({'name':name,'code':hotp})))\n",
    "\n",
    "# Set the server counter back 15, this will not validate\n",
    "ga.HOTP_COUNTER -= 15\n",
    "print('HOTP counter= %d' % ga.HOTP_COUNTER)\n",
    "hotp = ga.currentHOTP(name)\n",
    "print(\"Current code= %s\" % hotp)\n",
    "display(HTML(ga.validateHOTP({'name':name,'code':hotp})))\n",
    "\n"
   ]
  },
  {
   "cell_type": "markdown",
   "id": "confused-metadata",
   "metadata": {},
   "source": [
    "# Lesson #4 Sending TOTP and HOTP tokens to a website\n",
    "\n",
    "In this lesson you will register a secret for your name and experiment with sending OATH tokens.  \n",
    "\n",
    "A simple OATH server is running on [kali.cyber-unh.org](http://kali.cyber-unh.org:8080/)  \n",
    "The new tab you just loaded will look something like this: ![](TOTP-server.png)\n",
    "\n",
    "### Step 1: Register your name and secret\n",
    "\n",
    "Enter your name and click \"registerUser\", optionally you can replace the secret\n",
    "with one you generated earlier in this lesson.  This is the same as using the follwoing URL:\n",
    "http://kali.cyber-unh.org/registerUser?name=[yourname]?secret=[yoursecret]  \n",
    "\n",
    "You will see a confirmation of your secret.\n",
    "\n",
    "### Step 2: Submit a TOTP token\n",
    "Show your tokens: http://kali.cyber-unh.org:8080/name=[yourname]\n",
    "Notice how many seconds your TOTP token is good for.  It will never be more than 30 seconds.\n",
    "On the \"Validate TOTP for user\" line.  Enter your name and current TOTP token, click \"validate TOTP\"\n",
    "\n",
    "If you clicked before time ran out you will \"Validated\"  if not \"Failed\".\n",
    "You can use the back arrow and refresh to get a new token if you failed.  What is the minimum number of\n",
    "seconds you need to complete the form before the token expires?\n",
    "\n",
    "### Step 3: Submit a HOTP token\n",
    "Again show your tokens: http://kali.cyber-unh.org:8080/name=[yourname]\n",
    "HOTP tokens are not time sensitive but are limited to a single use.\n",
    "\n",
    "On the \"Validate HOTP for user\" line.  Enter your name and current HOTP token, click \"validate HOTP\"\n",
    "You should see \"Validated\"\n",
    "Go back, and enter the same again, click \"Validate HOTP\"\n",
    "This time it will fail."
   ]
  },
  {
   "cell_type": "code",
   "execution_count": null,
   "id": "e2b14aee",
   "metadata": {},
   "outputs": [],
   "source": [
    "import google_authenticator as ga\n",
    "\n",
    "secret = '' # Random generated from the server\n",
    "name = '' # The name you registered\n",
    "ga.registerUser({'name':name,'secret':secret})\n",
    "totp = ga.currentTOTP(name)\n",
    "print(\"Totp code = %s\" % totp)\n",
    "hotp = ga.currentHOTP(name)\n",
    "print(\"Hotp code = %s\" % hotp)\n",
    "   \n"
   ]
  },
  {
   "cell_type": "markdown",
   "id": "indirect-occurrence",
   "metadata": {},
   "source": [
    "# Extra credit: Create your own OATH server\n",
    "Copy the google_authenticator.py to the Kali machine.\n",
    "Modify the code to run on a port that is not 8080.  Only one program can attach to a port at anytime.\n",
    "Modify the code tomake to more secure, to be used to handle authenication for an website you own.\n",
    "Or just plain play."
   ]
  },
  {
   "cell_type": "markdown",
   "id": "geological-contribution",
   "metadata": {},
   "source": [
    "# Extra credit: Google Authenticator"
   ]
  },
  {
   "cell_type": "code",
   "execution_count": 1,
   "id": "latest-receptor",
   "metadata": {},
   "outputs": [
    {
     "data": {
      "image/png": "[encoded data removed]",
      "text/plain": [
       "<IPython.core.display.Image object>"
      ]
     },
     "execution_count": 1,
     "metadata": {},
     "output_type": "execute_result"
    }
   ],
   "source": [
    "# Google provides an API to generate QR codes to be used with Google Authenticator\n",
    "\n",
    "import requests\n",
    "import IPython.display as Disp\n",
    "\n",
    "# Experiment by changing the variable settings\n",
    "secret = \"yoursecret\"\n",
    "name = \"yourname\"\n",
    "website = \"https://yoursite\"\n",
    "url = \"https://chart.googleapis.com/chart?chs=200x200&chld=M|0&cht=qr&chl=\" + website + \"?name=\" + name + \"&secret=\" + secret;\n",
    "\n",
    "# Show the QR code\n",
    "Disp.Image(requests.get(url).content)\n",
    "\n",
    "# Result is the website and you now share a secret associated with your name"
   ]
  },
  {
   "cell_type": "markdown",
   "id": "statistical-ceremony",
   "metadata": {},
   "source": [
    "Can you create a QR code that would allow Google Authenticator to validate against [kali](http://kali.cyber-unh.org:8000)?"
   ]
  },
  {
   "cell_type": "code",
   "execution_count": null,
   "id": "afraid-benchmark",
   "metadata": {},
   "outputs": [],
   "source": []
  },
  {
   "cell_type": "code",
   "execution_count": null,
   "id": "generic-matter",
   "metadata": {},
   "outputs": [],
   "source": []
  }
 ],
 "metadata": {
  "kernelspec": {
   "display_name": "Python 3 (ipykernel)",
   "language": "python",
   "name": "python3"
  },
  "language_info": {
   "codemirror_mode": {
    "name": "ipython",
    "version": 3
   },
   "file_extension": ".py",
   "mimetype": "text/x-python",
   "name": "python",
   "nbconvert_exporter": "python",
   "pygments_lexer": "ipython3",
   "version": "3.7.12"
  }
 },
 "nbformat": 4,
 "nbformat_minor": 5
}
